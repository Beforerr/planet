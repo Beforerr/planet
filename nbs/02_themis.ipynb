{
 "cells": [
  {
   "cell_type": "code",
   "execution_count": null,
   "metadata": {},
   "outputs": [],
   "source": [
    "#| hide\n",
    "%load_ext autoreload\n",
    "%autoreload 2\n",
    "from nbdev.showdoc import *\n"
   ]
  },
  {
   "cell_type": "code",
   "execution_count": null,
   "metadata": {},
   "outputs": [],
   "source": [
    "#| code-summary: import all the packages needed for the project\n",
    "#| output: hide\n",
    "\n",
    "from ids_finder.utils import *\n",
    "from ids_finder.core import *\n",
    "from fastcore.utils import *\n",
    "from fastcore.test import *\n",
    "\n",
    "import polars as pl\n",
    "try:\n",
    "    import modin.pandas as pd\n",
    "    import modin.pandas as mpd\n",
    "except ImportError:\n",
    "    import pandas as pd\n",
    "\n",
    "import pandas\n",
    "import numpy as np\n",
    "from humanize import naturalsize\n",
    "import xarray as xr\n",
    "\n",
    "\n",
    "from datetime import timedelta\n",
    "from loguru import logger\n",
    "import speasy as spz\n"
   ]
  },
  {
   "cell_type": "markdown",
   "metadata": {},
   "source": [
    "## Dataset Overview"
   ]
  },
  {
   "cell_type": "code",
   "execution_count": null,
   "metadata": {},
   "outputs": [],
   "source": [
    "artemis_probes = [\"b\", \"c\"]\n",
    "probe = artemis_probes[0]\n",
    "\n",
    "jno_start_date = \"2011-08-25\"\n",
    "jno_end_date = \"2016-06-30\" \n",
    "\n",
    "trange = [jno_start_date, jno_end_date]\n",
    "test_trange = [\"2011-08-25\", \"2011-09-25\"]"
   ]
  },
  {
   "cell_type": "markdown",
   "metadata": {},
   "source": [
    "### Download all the files"
   ]
  },
  {
   "cell_type": "code",
   "execution_count": null,
   "metadata": {},
   "outputs": [],
   "source": [
    "sat = 'thb'\n",
    "coord = 'gse'\n",
    "datatype = 'fgs'\n",
    "\n",
    "sat_fgm_product = f'cda/{sat.upper()}_L2_FGM/{sat}_fgs_gse'\n",
    "sat_pos_sse_product = f'cda/{sat.upper()}_L1_STATE/{sat}_pos_sse'\n",
    "sat_pos_gse_product = f'cda/{sat.upper()}_L1_STATE/{sat}_pos_gse'\n",
    "\n",
    "products = [\n",
    "    sat_fgm_product,\n",
    "    sat_pos_sse_product,\n",
    "    sat_pos_gse_product\n",
    "]"
   ]
  },
  {
   "cell_type": "code",
   "execution_count": null,
   "metadata": {},
   "outputs": [],
   "source": [
    "@threaded\n",
    "def download_data(products, trange):\n",
    "    logger.info(\"Downloading data\")\n",
    "    spz.get_data(products, trange, progress=True, disable_proxy=True)\n",
    "    logger.info(\"Data downloaded\")\n",
    "    # spz.get_data(products, jno_start_date, jno_end_date)   "
   ]
  },
  {
   "cell_type": "markdown",
   "metadata": {},
   "source": [
    "Download data in a background thread"
   ]
  },
  {
   "cell_type": "code",
   "execution_count": 3,
   "metadata": {},
   "outputs": [
    {
     "data": {
      "text/markdown": [
       "#| eval: false\n",
       "download_data(products, trange)\n"
      ],
      "text/plain": [
       "<IPython.core.display.Markdown object>"
      ]
     },
     "metadata": {},
     "output_type": "display_data"
    }
   ],
   "source": [
    "%%markdown\n",
    "#| eval: false\n",
    "download_data(products, trange)"
   ]
  },
  {
   "cell_type": "markdown",
   "metadata": {},
   "source": [
    "### Convert data to `parquet` for faster processing"
   ]
  },
  {
   "cell_type": "code",
   "execution_count": null,
   "metadata": {},
   "outputs": [],
   "source": [
    "def thm_rename_col(col: str):\n",
    "    if \",\" in col:\n",
    "        col = col.split(\",\")[0]\n",
    "    return col.split()[0].upper()\n",
    "\n",
    "def spz2parquet(data, force=False):\n",
    "    output = f\"../data/{data.name}.parquet\"\n",
    "    if Path(output).exists() and not force:\n",
    "        logger.info(\"Data already converted to parquet\")\n",
    "    else: \n",
    "        df = pandas.DataFrame(\n",
    "            data.values, index=pandas.Series(data.time, name=\"time\"), columns=data.columns\n",
    "        )\n",
    "        \n",
    "        df.to_parquet(output)\n",
    "        logger.info(\"Data converted to parquet successfully\")"
   ]
  },
  {
   "cell_type": "code",
   "execution_count": 4,
   "metadata": {},
   "outputs": [
    {
     "data": {
      "text/markdown": [
       "\n",
       "dataset = spz.get_data(products, trange)\n",
       "\n",
       "for data in dataset:\n",
       "    spz2parquet(data, force=False)\n"
      ],
      "text/plain": [
       "<IPython.core.display.Markdown object>"
      ]
     },
     "metadata": {},
     "output_type": "display_data"
    }
   ],
   "source": [
    "%%markdown\n",
    "\n",
    "dataset = spz.get_data(products, trange)\n",
    "\n",
    "for data in dataset:\n",
    "    spz2parquet(data, force=False)"
   ]
  },
  {
   "cell_type": "markdown",
   "metadata": {},
   "source": [
    "## Processing the whole data"
   ]
  },
  {
   "cell_type": "code",
   "execution_count": null,
   "metadata": {},
   "outputs": [],
   "source": [
    "def get_thm_state(sat):\n",
    "    sat_pos_sse_files = f\"../data/{sat}_pos_sse.parquet\"\n",
    "    sat_pos_sse = pl.scan_parquet(sat_pos_sse_files).set_sorted(\"time\")\n",
    "    sat_pos_gse_files = f\"../data/{sat}_pos_gse.parquet\"\n",
    "    sat_pos_gse = pl.scan_parquet(sat_pos_gse_files).set_sorted(\"time\")\n",
    "    sat_state = sat_pos_sse.join(sat_pos_gse, on=\"time\", how=\"inner\")\n",
    "    return sat_state"
   ]
  },
  {
   "cell_type": "code",
   "execution_count": null,
   "metadata": {},
   "outputs": [],
   "source": [
    "#| eval: false\n",
    "\n",
    "sat = \"thb\"\n",
    "coord = \"gse\"\n",
    "datatype = \"fgs\"\n",
    "tau = timedelta(seconds=60)\n",
    "data_resolution = timedelta(seconds=4)\n",
    "\n",
    "files = f\"../data/{sat}_{datatype}_{coord}.parquet\"\n",
    "output = f\"../data/{sat}_candidates_tau_{tau.seconds}.parquet\"\n",
    "\n",
    "rename_mapping = {\n",
    "    \"Bx FGS-D\": \"BX\",\n",
    "    \"By FGS-D\": \"BY\",\n",
    "    \"Bz FGS-D\": \"BZ\",\n",
    "}\n",
    "\n",
    "data = pl.scan_parquet(files).rename(rename_mapping).unique(\"time\").sort(\"time\").collect()\n",
    "sat_fgm = df2ts(\n",
    "    data, [\"BX\", \"BY\", \"BZ\"], attrs={\"coordinate_system\": coord, \"units\": \"nT\"}\n",
    ")\n",
    "sat_state = get_thm_state(sat)\n",
    "\n",
    "indices = compute_indices(data, tau)\n",
    "\n",
    "# # filter condition\n",
    "sparse_num = tau / data_resolution // 3\n",
    "filter_condition = get_ID_filter_condition(sparse_num = sparse_num)\n",
    "\n",
    "candidates_pl = indices.filter(filter_condition).with_columns(pl_format_time(tau))\n",
    "candidates = convert_to_dataframe(candidates_pl)\n",
    "del indices"
   ]
  },
  {
   "cell_type": "code",
   "execution_count": null,
   "metadata": {},
   "outputs": [
    {
     "ename": "NameError",
     "evalue": "name 'sat_fgm' is not defined",
     "output_type": "error",
     "traceback": [
      "\u001b[0;31m---------------------------------------------------------------------------\u001b[0m",
      "\u001b[0;31mNameError\u001b[0m                                 Traceback (most recent call last)",
      "\u001b[1;32m/Users/zijin/projects/planet/nbs/02_themis.ipynb Cell 16\u001b[0m line \u001b[0;36m<cell line: 16>\u001b[0;34m()\u001b[0m\n\u001b[1;32m     <a href='vscode-notebook-cell:/Users/zijin/projects/planet/nbs/02_themis.ipynb#X22sZmlsZQ%3D%3D?line=10'>11</a>\u001b[0m     logger\u001b[39m.\u001b[39minfo(\u001b[39mf\u001b[39m\u001b[39m\"\u001b[39m\u001b[39m{\u001b[39;00mnaturalsize(size)\u001b[39m}\u001b[39;00m\u001b[39m (\u001b[39m\u001b[39m{\u001b[39;00mdatatype\u001b[39m.\u001b[39m\u001b[39m__name__\u001b[39m\u001b[39m}\u001b[39;00m\u001b[39m)\u001b[39m\u001b[39m\"\u001b[39m)\n\u001b[1;32m     <a href='vscode-notebook-cell:/Users/zijin/projects/planet/nbs/02_themis.ipynb#X22sZmlsZQ%3D%3D?line=11'>12</a>\u001b[0m     \u001b[39mreturn\u001b[39;00m size\n\u001b[0;32m---> <a href='vscode-notebook-cell:/Users/zijin/projects/planet/nbs/02_themis.ipynb#X22sZmlsZQ%3D%3D?line=15'>16</a>\u001b[0m get_memory_usage(sat_fgm)\n",
      "\u001b[0;31mNameError\u001b[0m: name 'sat_fgm' is not defined"
     ]
    }
   ],
   "source": [
    "#| eval: false\n",
    "def get_memory_usage(data):\n",
    "    datatype = type(data)\n",
    "    match datatype:\n",
    "        case pl.DataFrame:\n",
    "            size = data.estimated_size()\n",
    "        case pd.DataFrame:\n",
    "            size = data.memory_usage().sum()\n",
    "        case xr.DataArray:\n",
    "            size = data.nbytes\n",
    "\n",
    "    logger.info(f\"{naturalsize(size)} ({datatype.__name__})\")\n",
    "    return size\n",
    "\n",
    "\n",
    "get_memory_usage(indices)\n",
    "get_memory_usage(candidates)\n",
    "get_memory_usage(sat_fgm)"
   ]
  },
  {
   "cell_type": "code",
   "execution_count": null,
   "metadata": {},
   "outputs": [
    {
     "name": "stderr",
     "output_type": "stream",
     "text": [
      "\u001b[2m\u001b[33m(raylet)\u001b[0m [2023-09-24 00:55:26,352 E 70415 3620643] (raylet) file_system_monitor.cc:111: /tmp/ray/session_2023-09-24_00-49-06_800983_67101 is over 95% full, available space: 24609177600; capacity: 494384795648. Object creation will fail if spilling is required.\n",
      "\u001b[2m\u001b[33m(raylet)\u001b[0m [2023-09-24 00:55:36,360 E 70415 3620643] (raylet) file_system_monitor.cc:111: /tmp/ray/session_2023-09-24_00-49-06_800983_67101 is over 95% full, available space: 23729713152; capacity: 494384795648. Object creation will fail if spilling is required.\n",
      "\u001b[2m\u001b[33m(raylet)\u001b[0m [2023-09-24 00:55:46,375 E 70415 3620643] (raylet) file_system_monitor.cc:111: /tmp/ray/session_2023-09-24_00-49-06_800983_67101 is over 95% full, available space: 23729610752; capacity: 494384795648. Object creation will fail if spilling is required.\n",
      "\u001b[2m\u001b[33m(raylet)\u001b[0m [2023-09-24 00:55:56,451 E 70415 3620643] (raylet) file_system_monitor.cc:111: /tmp/ray/session_2023-09-24_00-49-06_800983_67101 is over 95% full, available space: 23728783360; capacity: 494384795648. Object creation will fail if spilling is required.\n",
      "Estimated completion of line 17: 100%██████████ Elapsed time: 00:00, estimated remaining time: 00:00\n"
     ]
    },
    {
     "ename": "PipelineApplicationError",
     "evalue": "Exception raised in stage [ 1] PdPipelineStage: Generating a column with a function calculating duration parameters if needed.",
     "output_type": "error",
     "traceback": [
      "\u001b[0;31m---------------------------------------------------------------------------\u001b[0m",
      "\u001b[0;31mOutOfDiskError\u001b[0m                            Traceback (most recent call last)",
      "File \u001b[0;32m~/mambaforge/envs/cool_planet/lib/python3.10/site-packages/pdpipe/core.py:1424\u001b[0m, in \u001b[0;36mPdPipeline.fit_transform\u001b[0;34m(self, X, y, exraise, verbose, time, fit_context, application_context)\u001b[0m\n\u001b[1;32m   1422\u001b[0m \u001b[39mself\u001b[39m\u001b[39m.\u001b[39m_use_dynamics(stage, inter_X, inter_y)\n\u001b[0;32m-> 1424\u001b[0m inter_X \u001b[39m=\u001b[39m stage\u001b[39m.\u001b[39;49mfit_transform(\n\u001b[1;32m   1425\u001b[0m     X\u001b[39m=\u001b[39;49minter_X,\n\u001b[1;32m   1426\u001b[0m     y\u001b[39m=\u001b[39;49m\u001b[39mNone\u001b[39;49;00m,\n\u001b[1;32m   1427\u001b[0m     exraise\u001b[39m=\u001b[39;49mexraise,\n\u001b[1;32m   1428\u001b[0m     verbose\u001b[39m=\u001b[39;49mverbose,\n\u001b[1;32m   1429\u001b[0m )\n\u001b[1;32m   1430\u001b[0m stage\u001b[39m.\u001b[39mapplication_context \u001b[39m=\u001b[39m \u001b[39mNone\u001b[39;00m\n",
      "File \u001b[0;32m~/mambaforge/envs/cool_planet/lib/python3.10/site-packages/pdpipe/core.py:701\u001b[0m, in \u001b[0;36mPdPipelineStage.fit_transform\u001b[0;34m(self, X, y, exraise, verbose)\u001b[0m\n\u001b[1;32m    700\u001b[0m \u001b[39melse\u001b[39;00m:\n\u001b[0;32m--> 701\u001b[0m     res_X \u001b[39m=\u001b[39m \u001b[39mself\u001b[39;49m\u001b[39m.\u001b[39;49m_fit_transform(X, verbose\u001b[39m=\u001b[39;49mverbose)\n\u001b[1;32m    702\u001b[0m     res_y \u001b[39m=\u001b[39m y\n",
      "File \u001b[0;32m~/mambaforge/envs/cool_planet/lib/python3.10/site-packages/pdpipe/core.py:489\u001b[0m, in \u001b[0;36mPdPipelineStage._fit_transform\u001b[0;34m(self, X, verbose)\u001b[0m\n\u001b[1;32m    475\u001b[0m \u001b[39m\u001b[39m\u001b[39m\"\"\"Fits this stage and transforms the input dataframe.\u001b[39;00m\n\u001b[1;32m    476\u001b[0m \n\u001b[1;32m    477\u001b[0m \u001b[39mParameters\u001b[39;00m\n\u001b[0;32m   (...)\u001b[0m\n\u001b[1;32m    487\u001b[0m \u001b[39m    The transformed dataframe.\u001b[39;00m\n\u001b[1;32m    488\u001b[0m \u001b[39m\"\"\"\u001b[39;00m\n\u001b[0;32m--> 489\u001b[0m \u001b[39mreturn\u001b[39;00m \u001b[39mself\u001b[39;49m\u001b[39m.\u001b[39;49m_transform(X, verbose\u001b[39m=\u001b[39;49mverbose)\n",
      "File \u001b[0;32m~/projects/planet/ids_finder/core.py:513\u001b[0m, in \u001b[0;36m_transform\u001b[0;34m(self, X, verbose)\u001b[0m\n\u001b[1;32m    511\u001b[0m \u001b[39m@patch\u001b[39m\n\u001b[1;32m    512\u001b[0m \u001b[39mdef\u001b[39;00m \u001b[39m_transform\u001b[39m(\u001b[39mself\u001b[39m: pdp\u001b[39m.\u001b[39mApplyToRows, X, verbose):\n\u001b[0;32m--> 513\u001b[0m     new_cols \u001b[39m=\u001b[39m X\u001b[39m.\u001b[39;49mapply(\u001b[39mself\u001b[39;49m\u001b[39m.\u001b[39;49m_func, axis\u001b[39m=\u001b[39;49m\u001b[39m1\u001b[39;49m)\n\u001b[1;32m    514\u001b[0m     \u001b[39mif\u001b[39;00m \u001b[39misinstance\u001b[39m(new_cols, (pd\u001b[39m.\u001b[39mSeries, pandas\u001b[39m.\u001b[39mSeries)):\n",
      "File \u001b[0;32m~/mambaforge/envs/cool_planet/lib/python3.10/site-packages/modin/logging/logger_decorator.py:128\u001b[0m, in \u001b[0;36menable_logging.<locals>.decorator.<locals>.run_and_log\u001b[0;34m(*args, **kwargs)\u001b[0m\n\u001b[1;32m    127\u001b[0m \u001b[39mif\u001b[39;00m LogMode\u001b[39m.\u001b[39mget() \u001b[39m==\u001b[39m \u001b[39m\"\u001b[39m\u001b[39mdisable\u001b[39m\u001b[39m\"\u001b[39m:\n\u001b[0;32m--> 128\u001b[0m     \u001b[39mreturn\u001b[39;00m obj(\u001b[39m*\u001b[39;49margs, \u001b[39m*\u001b[39;49m\u001b[39m*\u001b[39;49mkwargs)\n\u001b[1;32m    130\u001b[0m logger \u001b[39m=\u001b[39m get_logger()\n",
      "File \u001b[0;32m~/mambaforge/envs/cool_planet/lib/python3.10/site-packages/modin/pandas/dataframe.py:396\u001b[0m, in \u001b[0;36mDataFrame.apply\u001b[0;34m(self, func, axis, raw, result_type, args, **kwargs)\u001b[0m\n\u001b[1;32m    395\u001b[0m axis \u001b[39m=\u001b[39m \u001b[39mself\u001b[39m\u001b[39m.\u001b[39m_get_axis_number(axis)\n\u001b[0;32m--> 396\u001b[0m query_compiler \u001b[39m=\u001b[39m \u001b[39msuper\u001b[39;49m(DataFrame, \u001b[39mself\u001b[39;49m)\u001b[39m.\u001b[39;49mapply(\n\u001b[1;32m    397\u001b[0m     func,\n\u001b[1;32m    398\u001b[0m     axis\u001b[39m=\u001b[39;49maxis,\n\u001b[1;32m    399\u001b[0m     broadcast\u001b[39m=\u001b[39;49m\u001b[39mNone\u001b[39;49;00m,\n\u001b[1;32m    400\u001b[0m     raw\u001b[39m=\u001b[39;49mraw,\n\u001b[1;32m    401\u001b[0m     reduce\u001b[39m=\u001b[39;49m\u001b[39mNone\u001b[39;49;00m,\n\u001b[1;32m    402\u001b[0m     result_type\u001b[39m=\u001b[39;49mresult_type,\n\u001b[1;32m    403\u001b[0m     convert_dtype\u001b[39m=\u001b[39;49m\u001b[39mNone\u001b[39;49;00m,\n\u001b[1;32m    404\u001b[0m     args\u001b[39m=\u001b[39;49margs,\n\u001b[1;32m    405\u001b[0m     \u001b[39m*\u001b[39;49m\u001b[39m*\u001b[39;49mkwargs,\n\u001b[1;32m    406\u001b[0m )\n\u001b[1;32m    407\u001b[0m \u001b[39mif\u001b[39;00m \u001b[39mnot\u001b[39;00m \u001b[39misinstance\u001b[39m(query_compiler, \u001b[39mtype\u001b[39m(\u001b[39mself\u001b[39m\u001b[39m.\u001b[39m_query_compiler)):\n\u001b[1;32m    408\u001b[0m     \u001b[39m# A scalar was returned\u001b[39;00m\n",
      "File \u001b[0;32m~/mambaforge/envs/cool_planet/lib/python3.10/site-packages/modin/logging/logger_decorator.py:128\u001b[0m, in \u001b[0;36menable_logging.<locals>.decorator.<locals>.run_and_log\u001b[0;34m(*args, **kwargs)\u001b[0m\n\u001b[1;32m    127\u001b[0m \u001b[39mif\u001b[39;00m LogMode\u001b[39m.\u001b[39mget() \u001b[39m==\u001b[39m \u001b[39m\"\u001b[39m\u001b[39mdisable\u001b[39m\u001b[39m\"\u001b[39m:\n\u001b[0;32m--> 128\u001b[0m     \u001b[39mreturn\u001b[39;00m obj(\u001b[39m*\u001b[39;49margs, \u001b[39m*\u001b[39;49m\u001b[39m*\u001b[39;49mkwargs)\n\u001b[1;32m    130\u001b[0m logger \u001b[39m=\u001b[39m get_logger()\n",
      "File \u001b[0;32m~/mambaforge/envs/cool_planet/lib/python3.10/site-packages/modin/pandas/base.py:894\u001b[0m, in \u001b[0;36mBasePandasDataset.apply\u001b[0;34m(self, func, axis, broadcast, raw, reduce, result_type, convert_dtype, args, **kwds)\u001b[0m\n\u001b[1;32m    889\u001b[0m         warnings\u001b[39m.\u001b[39mwarn(\n\u001b[1;32m    890\u001b[0m             \u001b[39m\"\u001b[39m\u001b[39mduplicate column names not supported with apply().\u001b[39m\u001b[39m\"\u001b[39m,\n\u001b[1;32m    891\u001b[0m             \u001b[39mFutureWarning\u001b[39;00m,\n\u001b[1;32m    892\u001b[0m             stacklevel\u001b[39m=\u001b[39m\u001b[39m2\u001b[39m,\n\u001b[1;32m    893\u001b[0m         )\n\u001b[0;32m--> 894\u001b[0m query_compiler \u001b[39m=\u001b[39m \u001b[39mself\u001b[39;49m\u001b[39m.\u001b[39;49m_query_compiler\u001b[39m.\u001b[39;49mapply(\n\u001b[1;32m    895\u001b[0m     func,\n\u001b[1;32m    896\u001b[0m     axis,\n\u001b[1;32m    897\u001b[0m     args\u001b[39m=\u001b[39;49margs,\n\u001b[1;32m    898\u001b[0m     raw\u001b[39m=\u001b[39;49mraw,\n\u001b[1;32m    899\u001b[0m     result_type\u001b[39m=\u001b[39;49mresult_type,\n\u001b[1;32m    900\u001b[0m     \u001b[39m*\u001b[39;49m\u001b[39m*\u001b[39;49mkwds,\n\u001b[1;32m    901\u001b[0m )\n\u001b[1;32m    902\u001b[0m \u001b[39mreturn\u001b[39;00m query_compiler\n",
      "File \u001b[0;32m~/mambaforge/envs/cool_planet/lib/python3.10/site-packages/modin/logging/logger_decorator.py:128\u001b[0m, in \u001b[0;36menable_logging.<locals>.decorator.<locals>.run_and_log\u001b[0;34m(*args, **kwargs)\u001b[0m\n\u001b[1;32m    127\u001b[0m \u001b[39mif\u001b[39;00m LogMode\u001b[39m.\u001b[39mget() \u001b[39m==\u001b[39m \u001b[39m\"\u001b[39m\u001b[39mdisable\u001b[39m\u001b[39m\"\u001b[39m:\n\u001b[0;32m--> 128\u001b[0m     \u001b[39mreturn\u001b[39;00m obj(\u001b[39m*\u001b[39;49margs, \u001b[39m*\u001b[39;49m\u001b[39m*\u001b[39;49mkwargs)\n\u001b[1;32m    130\u001b[0m logger \u001b[39m=\u001b[39m get_logger()\n",
      "File \u001b[0;32m~/mambaforge/envs/cool_planet/lib/python3.10/site-packages/modin/core/storage_formats/pandas/query_compiler.py:2971\u001b[0m, in \u001b[0;36mPandasQueryCompiler.apply\u001b[0;34m(self, func, axis, *args, **kwargs)\u001b[0m\n\u001b[1;32m   2970\u001b[0m \u001b[39melse\u001b[39;00m:\n\u001b[0;32m-> 2971\u001b[0m     \u001b[39mreturn\u001b[39;00m \u001b[39mself\u001b[39;49m\u001b[39m.\u001b[39;49m_callable_func(func, axis, \u001b[39m*\u001b[39;49margs, \u001b[39m*\u001b[39;49m\u001b[39m*\u001b[39;49mkwargs)\n",
      "File \u001b[0;32m~/mambaforge/envs/cool_planet/lib/python3.10/site-packages/modin/logging/logger_decorator.py:128\u001b[0m, in \u001b[0;36menable_logging.<locals>.decorator.<locals>.run_and_log\u001b[0;34m(*args, **kwargs)\u001b[0m\n\u001b[1;32m    127\u001b[0m \u001b[39mif\u001b[39;00m LogMode\u001b[39m.\u001b[39mget() \u001b[39m==\u001b[39m \u001b[39m\"\u001b[39m\u001b[39mdisable\u001b[39m\u001b[39m\"\u001b[39m:\n\u001b[0;32m--> 128\u001b[0m     \u001b[39mreturn\u001b[39;00m obj(\u001b[39m*\u001b[39;49margs, \u001b[39m*\u001b[39;49m\u001b[39m*\u001b[39;49mkwargs)\n\u001b[1;32m    130\u001b[0m logger \u001b[39m=\u001b[39m get_logger()\n",
      "File \u001b[0;32m~/mambaforge/envs/cool_planet/lib/python3.10/site-packages/modin/core/storage_formats/pandas/query_compiler.py:3101\u001b[0m, in \u001b[0;36mPandasQueryCompiler._callable_func\u001b[0;34m(self, func, axis, *args, **kwargs)\u001b[0m\n\u001b[1;32m   3099\u001b[0m     func \u001b[39m=\u001b[39m wrap_udf_function(func)\n\u001b[0;32m-> 3101\u001b[0m new_modin_frame \u001b[39m=\u001b[39m \u001b[39mself\u001b[39;49m\u001b[39m.\u001b[39;49m_modin_frame\u001b[39m.\u001b[39;49mapply_full_axis(\n\u001b[1;32m   3102\u001b[0m     axis, \u001b[39mlambda\u001b[39;49;00m df: df\u001b[39m.\u001b[39;49mapply(func, axis\u001b[39m=\u001b[39;49maxis, \u001b[39m*\u001b[39;49margs, \u001b[39m*\u001b[39;49m\u001b[39m*\u001b[39;49mkwargs)\n\u001b[1;32m   3103\u001b[0m )\n\u001b[1;32m   3104\u001b[0m \u001b[39mreturn\u001b[39;00m \u001b[39mself\u001b[39m\u001b[39m.\u001b[39m__constructor__(new_modin_frame)\n",
      "File \u001b[0;32m~/mambaforge/envs/cool_planet/lib/python3.10/site-packages/modin/logging/logger_decorator.py:128\u001b[0m, in \u001b[0;36menable_logging.<locals>.decorator.<locals>.run_and_log\u001b[0;34m(*args, **kwargs)\u001b[0m\n\u001b[1;32m    127\u001b[0m \u001b[39mif\u001b[39;00m LogMode\u001b[39m.\u001b[39mget() \u001b[39m==\u001b[39m \u001b[39m\"\u001b[39m\u001b[39mdisable\u001b[39m\u001b[39m\"\u001b[39m:\n\u001b[0;32m--> 128\u001b[0m     \u001b[39mreturn\u001b[39;00m obj(\u001b[39m*\u001b[39;49margs, \u001b[39m*\u001b[39;49m\u001b[39m*\u001b[39;49mkwargs)\n\u001b[1;32m    130\u001b[0m logger \u001b[39m=\u001b[39m get_logger()\n",
      "File \u001b[0;32m~/mambaforge/envs/cool_planet/lib/python3.10/site-packages/modin/core/dataframe/pandas/dataframe/utils.py:376\u001b[0m, in \u001b[0;36mlazy_metadata_decorator.<locals>.decorator.<locals>.run_f_on_minimally_updated_metadata\u001b[0;34m(self, *args, **kwargs)\u001b[0m\n\u001b[1;32m    375\u001b[0m         obj\u001b[39m.\u001b[39m_propagate_index_objs(axis\u001b[39m=\u001b[39m\u001b[39m0\u001b[39m)\n\u001b[0;32m--> 376\u001b[0m result \u001b[39m=\u001b[39m f(\u001b[39mself\u001b[39;49m, \u001b[39m*\u001b[39;49margs, \u001b[39m*\u001b[39;49m\u001b[39m*\u001b[39;49mkwargs)\n\u001b[1;32m    377\u001b[0m \u001b[39mif\u001b[39;00m apply_axis \u001b[39mis\u001b[39;00m \u001b[39mNone\u001b[39;00m \u001b[39mand\u001b[39;00m \u001b[39mnot\u001b[39;00m transpose:\n",
      "File \u001b[0;32m~/mambaforge/envs/cool_planet/lib/python3.10/site-packages/modin/core/dataframe/pandas/dataframe/dataframe.py:2609\u001b[0m, in \u001b[0;36mPandasDataframe.apply_full_axis\u001b[0;34m(self, axis, func, new_index, new_columns, apply_indices, enumerate_partitions, dtypes, keep_partitioning, num_splits, sync_labels, pass_axis_lengths_to_partitions)\u001b[0m\n\u001b[1;32m   2560\u001b[0m \u001b[39m\u001b[39m\u001b[39m\"\"\"\u001b[39;00m\n\u001b[1;32m   2561\u001b[0m \u001b[39mPerform a function across an entire axis.\u001b[39;00m\n\u001b[1;32m   2562\u001b[0m \n\u001b[0;32m   (...)\u001b[0m\n\u001b[1;32m   2607\u001b[0m \u001b[39mThe data shape may change as a result of the function.\u001b[39;00m\n\u001b[1;32m   2608\u001b[0m \u001b[39m\"\"\"\u001b[39;00m\n\u001b[0;32m-> 2609\u001b[0m \u001b[39mreturn\u001b[39;00m \u001b[39mself\u001b[39;49m\u001b[39m.\u001b[39;49mbroadcast_apply_full_axis(\n\u001b[1;32m   2610\u001b[0m     axis\u001b[39m=\u001b[39;49maxis,\n\u001b[1;32m   2611\u001b[0m     func\u001b[39m=\u001b[39;49mfunc,\n\u001b[1;32m   2612\u001b[0m     new_index\u001b[39m=\u001b[39;49mnew_index,\n\u001b[1;32m   2613\u001b[0m     new_columns\u001b[39m=\u001b[39;49mnew_columns,\n\u001b[1;32m   2614\u001b[0m     apply_indices\u001b[39m=\u001b[39;49mapply_indices,\n\u001b[1;32m   2615\u001b[0m     enumerate_partitions\u001b[39m=\u001b[39;49menumerate_partitions,\n\u001b[1;32m   2616\u001b[0m     dtypes\u001b[39m=\u001b[39;49mdtypes,\n\u001b[1;32m   2617\u001b[0m     other\u001b[39m=\u001b[39;49m\u001b[39mNone\u001b[39;49;00m,\n\u001b[1;32m   2618\u001b[0m     keep_partitioning\u001b[39m=\u001b[39;49mkeep_partitioning,\n\u001b[1;32m   2619\u001b[0m     num_splits\u001b[39m=\u001b[39;49mnum_splits,\n\u001b[1;32m   2620\u001b[0m     sync_labels\u001b[39m=\u001b[39;49msync_labels,\n\u001b[1;32m   2621\u001b[0m     pass_axis_lengths_to_partitions\u001b[39m=\u001b[39;49mpass_axis_lengths_to_partitions,\n\u001b[1;32m   2622\u001b[0m )\n",
      "File \u001b[0;32m~/mambaforge/envs/cool_planet/lib/python3.10/site-packages/modin/logging/logger_decorator.py:128\u001b[0m, in \u001b[0;36menable_logging.<locals>.decorator.<locals>.run_and_log\u001b[0;34m(*args, **kwargs)\u001b[0m\n\u001b[1;32m    127\u001b[0m \u001b[39mif\u001b[39;00m LogMode\u001b[39m.\u001b[39mget() \u001b[39m==\u001b[39m \u001b[39m\"\u001b[39m\u001b[39mdisable\u001b[39m\u001b[39m\"\u001b[39m:\n\u001b[0;32m--> 128\u001b[0m     \u001b[39mreturn\u001b[39;00m obj(\u001b[39m*\u001b[39;49margs, \u001b[39m*\u001b[39;49m\u001b[39m*\u001b[39;49mkwargs)\n\u001b[1;32m    130\u001b[0m logger \u001b[39m=\u001b[39m get_logger()\n",
      "File \u001b[0;32m~/mambaforge/envs/cool_planet/lib/python3.10/site-packages/modin/core/dataframe/pandas/dataframe/utils.py:376\u001b[0m, in \u001b[0;36mlazy_metadata_decorator.<locals>.decorator.<locals>.run_f_on_minimally_updated_metadata\u001b[0;34m(self, *args, **kwargs)\u001b[0m\n\u001b[1;32m    375\u001b[0m         obj\u001b[39m.\u001b[39m_propagate_index_objs(axis\u001b[39m=\u001b[39m\u001b[39m0\u001b[39m)\n\u001b[0;32m--> 376\u001b[0m result \u001b[39m=\u001b[39m f(\u001b[39mself\u001b[39;49m, \u001b[39m*\u001b[39;49margs, \u001b[39m*\u001b[39;49m\u001b[39m*\u001b[39;49mkwargs)\n\u001b[1;32m    377\u001b[0m \u001b[39mif\u001b[39;00m apply_axis \u001b[39mis\u001b[39;00m \u001b[39mNone\u001b[39;00m \u001b[39mand\u001b[39;00m \u001b[39mnot\u001b[39;00m transpose:\n",
      "File \u001b[0;32m~/mambaforge/envs/cool_planet/lib/python3.10/site-packages/modin/core/dataframe/pandas/dataframe/dataframe.py:3078\u001b[0m, in \u001b[0;36mPandasDataframe.broadcast_apply_full_axis\u001b[0;34m(self, axis, func, other, new_index, new_columns, apply_indices, enumerate_partitions, dtypes, keep_partitioning, num_splits, sync_labels, pass_axis_lengths_to_partitions)\u001b[0m\n\u001b[1;32m   3070\u001b[0m         apply_func_args \u001b[39m=\u001b[39m (\n\u001b[1;32m   3071\u001b[0m             \u001b[39mself\u001b[39m\u001b[39m.\u001b[39m_row_lengths_cache\n\u001b[1;32m   3072\u001b[0m             \u001b[39mif\u001b[39;00m \u001b[39mself\u001b[39m\u001b[39m.\u001b[39m_row_lengths_cache \u001b[39mis\u001b[39;00m \u001b[39mnot\u001b[39;00m \u001b[39mNone\u001b[39;00m\n\u001b[0;32m   (...)\u001b[0m\n\u001b[1;32m   3075\u001b[0m             ]\n\u001b[1;32m   3076\u001b[0m         )\n\u001b[0;32m-> 3078\u001b[0m new_partitions \u001b[39m=\u001b[39m \u001b[39mself\u001b[39;49m\u001b[39m.\u001b[39;49m_partition_mgr_cls\u001b[39m.\u001b[39;49mbroadcast_axis_partitions(\n\u001b[1;32m   3079\u001b[0m     axis\u001b[39m=\u001b[39;49maxis,\n\u001b[1;32m   3080\u001b[0m     left\u001b[39m=\u001b[39;49m\u001b[39mself\u001b[39;49m\u001b[39m.\u001b[39;49m_partitions,\n\u001b[1;32m   3081\u001b[0m     right\u001b[39m=\u001b[39;49mother,\n\u001b[1;32m   3082\u001b[0m     apply_func\u001b[39m=\u001b[39;49m\u001b[39mself\u001b[39;49m\u001b[39m.\u001b[39;49m_build_treereduce_func(axis, func),\n\u001b[1;32m   3083\u001b[0m     apply_indices\u001b[39m=\u001b[39;49mapply_indices,\n\u001b[1;32m   3084\u001b[0m     enumerate_partitions\u001b[39m=\u001b[39;49menumerate_partitions,\n\u001b[1;32m   3085\u001b[0m     keep_partitioning\u001b[39m=\u001b[39;49mkeep_partitioning,\n\u001b[1;32m   3086\u001b[0m     num_splits\u001b[39m=\u001b[39;49mnum_splits,\n\u001b[1;32m   3087\u001b[0m     apply_func_args\u001b[39m=\u001b[39;49mapply_func_args,\n\u001b[1;32m   3088\u001b[0m )\n\u001b[1;32m   3089\u001b[0m kw \u001b[39m=\u001b[39m {\u001b[39m\"\u001b[39m\u001b[39mrow_lengths\u001b[39m\u001b[39m\"\u001b[39m: \u001b[39mNone\u001b[39;00m, \u001b[39m\"\u001b[39m\u001b[39mcolumn_widths\u001b[39m\u001b[39m\"\u001b[39m: \u001b[39mNone\u001b[39;00m}\n",
      "File \u001b[0;32m~/mambaforge/envs/cool_planet/lib/python3.10/site-packages/modin/logging/logger_decorator.py:128\u001b[0m, in \u001b[0;36menable_logging.<locals>.decorator.<locals>.run_and_log\u001b[0;34m(*args, **kwargs)\u001b[0m\n\u001b[1;32m    127\u001b[0m \u001b[39mif\u001b[39;00m LogMode\u001b[39m.\u001b[39mget() \u001b[39m==\u001b[39m \u001b[39m\"\u001b[39m\u001b[39mdisable\u001b[39m\u001b[39m\"\u001b[39m:\n\u001b[0;32m--> 128\u001b[0m     \u001b[39mreturn\u001b[39;00m obj(\u001b[39m*\u001b[39;49margs, \u001b[39m*\u001b[39;49m\u001b[39m*\u001b[39;49mkwargs)\n\u001b[1;32m    130\u001b[0m logger \u001b[39m=\u001b[39m get_logger()\n",
      "File \u001b[0;32m~/mambaforge/envs/cool_planet/lib/python3.10/site-packages/modin/core/dataframe/pandas/partitioning/partition_manager.py:58\u001b[0m, in \u001b[0;36mwait_computations_if_benchmark_mode.<locals>.wait\u001b[0;34m(cls, *args, **kwargs)\u001b[0m\n\u001b[1;32m     57\u001b[0m \u001b[39m\u001b[39m\u001b[39m\"\"\"Wait for computation results.\"\"\"\u001b[39;00m\n\u001b[0;32m---> 58\u001b[0m result \u001b[39m=\u001b[39m func(\u001b[39mcls\u001b[39;49m, \u001b[39m*\u001b[39;49margs, \u001b[39m*\u001b[39;49m\u001b[39m*\u001b[39;49mkwargs)\n\u001b[1;32m     59\u001b[0m \u001b[39mif\u001b[39;00m BenchmarkMode\u001b[39m.\u001b[39mget():\n",
      "File \u001b[0;32m~/mambaforge/envs/cool_planet/lib/python3.10/site-packages/modin/core/dataframe/pandas/partitioning/partition_manager.py:469\u001b[0m, in \u001b[0;36mPandasDataframePartitionManager.broadcast_axis_partitions\u001b[0;34m(cls, axis, apply_func, left, right, keep_partitioning, num_splits, apply_indices, enumerate_partitions, lengths, apply_func_args, **kwargs)\u001b[0m\n\u001b[1;32m    465\u001b[0m     ErrorMessage\u001b[39m.\u001b[39mcatch_bugs_and_request_email(\n\u001b[1;32m    466\u001b[0m         failure_condition\u001b[39m=\u001b[39m\u001b[39mnot\u001b[39;00m \u001b[39misinstance\u001b[39m(num_splits, \u001b[39mint\u001b[39m),\n\u001b[1;32m    467\u001b[0m         extra_log\u001b[39m=\u001b[39m\u001b[39mf\u001b[39m\u001b[39m\"\u001b[39m\u001b[39mExpected `num_splits` to be an integer, got: \u001b[39m\u001b[39m{\u001b[39;00m\u001b[39mtype\u001b[39m(num_splits)\u001b[39m}\u001b[39;00m\u001b[39m | \u001b[39m\u001b[39m{\u001b[39;00mnum_splits\u001b[39m=}\u001b[39;00m\u001b[39m\"\u001b[39m,\n\u001b[1;32m    468\u001b[0m     )\n\u001b[0;32m--> 469\u001b[0m preprocessed_map_func \u001b[39m=\u001b[39m \u001b[39mcls\u001b[39;49m\u001b[39m.\u001b[39;49mpreprocess_func(apply_func)\n\u001b[1;32m    470\u001b[0m left_partitions \u001b[39m=\u001b[39m \u001b[39mcls\u001b[39m\u001b[39m.\u001b[39maxis_partition(left, axis)\n",
      "File \u001b[0;32m~/mambaforge/envs/cool_planet/lib/python3.10/site-packages/modin/logging/logger_decorator.py:128\u001b[0m, in \u001b[0;36menable_logging.<locals>.decorator.<locals>.run_and_log\u001b[0;34m(*args, **kwargs)\u001b[0m\n\u001b[1;32m    127\u001b[0m \u001b[39mif\u001b[39;00m LogMode\u001b[39m.\u001b[39mget() \u001b[39m==\u001b[39m \u001b[39m\"\u001b[39m\u001b[39mdisable\u001b[39m\u001b[39m\"\u001b[39m:\n\u001b[0;32m--> 128\u001b[0m     \u001b[39mreturn\u001b[39;00m obj(\u001b[39m*\u001b[39;49margs, \u001b[39m*\u001b[39;49m\u001b[39m*\u001b[39;49mkwargs)\n\u001b[1;32m    130\u001b[0m logger \u001b[39m=\u001b[39m get_logger()\n",
      "File \u001b[0;32m~/mambaforge/envs/cool_planet/lib/python3.10/site-packages/modin/core/dataframe/pandas/partitioning/partition_manager.py:120\u001b[0m, in \u001b[0;36mPandasDataframePartitionManager.preprocess_func\u001b[0;34m(cls, map_func)\u001b[0m\n\u001b[1;32m     95\u001b[0m \u001b[39m\u001b[39m\u001b[39m\"\"\"\u001b[39;00m\n\u001b[1;32m     96\u001b[0m \u001b[39mPreprocess a function to be applied to `PandasDataframePartition` objects.\u001b[39;00m\n\u001b[1;32m     97\u001b[0m \n\u001b[0;32m   (...)\u001b[0m\n\u001b[1;32m    118\u001b[0m \u001b[39myou are using does not require any modification to a given function.\u001b[39;00m\n\u001b[1;32m    119\u001b[0m \u001b[39m\"\"\"\u001b[39;00m\n\u001b[0;32m--> 120\u001b[0m \u001b[39mreturn\u001b[39;00m \u001b[39mcls\u001b[39;49m\u001b[39m.\u001b[39;49m_partition_class\u001b[39m.\u001b[39;49mpreprocess_func(map_func)\n",
      "File \u001b[0;32m~/mambaforge/envs/cool_planet/lib/python3.10/site-packages/modin/core/execution/ray/implementations/pandas_on_ray/partitioning/partition.py:251\u001b[0m, in \u001b[0;36mPandasOnRayDataframePartition.preprocess_func\u001b[0;34m(cls, func)\u001b[0m\n\u001b[1;32m    238\u001b[0m \u001b[39m\u001b[39m\u001b[39m\"\"\"\u001b[39;00m\n\u001b[1;32m    239\u001b[0m \u001b[39mPut a function into the Plasma store to use in ``apply``.\u001b[39;00m\n\u001b[1;32m    240\u001b[0m \n\u001b[0;32m   (...)\u001b[0m\n\u001b[1;32m    249\u001b[0m \u001b[39m    A reference to `func`.\u001b[39;00m\n\u001b[1;32m    250\u001b[0m \u001b[39m\"\"\"\u001b[39;00m\n\u001b[0;32m--> 251\u001b[0m \u001b[39mreturn\u001b[39;00m \u001b[39mcls\u001b[39;49m\u001b[39m.\u001b[39;49mexecution_wrapper\u001b[39m.\u001b[39;49mput(func)\n",
      "File \u001b[0;32m~/mambaforge/envs/cool_planet/lib/python3.10/site-packages/modin/core/execution/ray/common/engine_wrapper.py:111\u001b[0m, in \u001b[0;36mRayWrapper.put\u001b[0;34m(cls, data, **kwargs)\u001b[0m\n\u001b[1;32m     96\u001b[0m \u001b[39m\u001b[39m\u001b[39m\"\"\"\u001b[39;00m\n\u001b[1;32m     97\u001b[0m \u001b[39mStore an object in the object store.\u001b[39;00m\n\u001b[1;32m     98\u001b[0m \n\u001b[0;32m   (...)\u001b[0m\n\u001b[1;32m    109\u001b[0m \u001b[39m    Ray object identifier to get the value by.\u001b[39;00m\n\u001b[1;32m    110\u001b[0m \u001b[39m\"\"\"\u001b[39;00m\n\u001b[0;32m--> 111\u001b[0m \u001b[39mreturn\u001b[39;00m ray\u001b[39m.\u001b[39;49mput(data, \u001b[39m*\u001b[39;49m\u001b[39m*\u001b[39;49mkwargs)\n",
      "File \u001b[0;32m~/mambaforge/envs/cool_planet/lib/python3.10/site-packages/ray/_private/auto_init_hook.py:24\u001b[0m, in \u001b[0;36mwrap_auto_init.<locals>.auto_init_wrapper\u001b[0;34m(*args, **kwargs)\u001b[0m\n\u001b[1;32m     23\u001b[0m auto_init_ray()\n\u001b[0;32m---> 24\u001b[0m \u001b[39mreturn\u001b[39;00m fn(\u001b[39m*\u001b[39;49margs, \u001b[39m*\u001b[39;49m\u001b[39m*\u001b[39;49mkwargs)\n",
      "File \u001b[0;32m~/mambaforge/envs/cool_planet/lib/python3.10/site-packages/ray/_private/client_mode_hook.py:103\u001b[0m, in \u001b[0;36mclient_mode_hook.<locals>.wrapper\u001b[0;34m(*args, **kwargs)\u001b[0m\n\u001b[1;32m    102\u001b[0m         \u001b[39mreturn\u001b[39;00m \u001b[39mgetattr\u001b[39m(ray, func\u001b[39m.\u001b[39m\u001b[39m__name__\u001b[39m)(\u001b[39m*\u001b[39margs, \u001b[39m*\u001b[39m\u001b[39m*\u001b[39mkwargs)\n\u001b[0;32m--> 103\u001b[0m \u001b[39mreturn\u001b[39;00m func(\u001b[39m*\u001b[39;49margs, \u001b[39m*\u001b[39;49m\u001b[39m*\u001b[39;49mkwargs)\n",
      "File \u001b[0;32m~/mambaforge/envs/cool_planet/lib/python3.10/site-packages/ray/_private/worker.py:2620\u001b[0m, in \u001b[0;36mput\u001b[0;34m(value, _owner)\u001b[0m\n\u001b[1;32m   2619\u001b[0m \u001b[39mtry\u001b[39;00m:\n\u001b[0;32m-> 2620\u001b[0m     object_ref \u001b[39m=\u001b[39m worker\u001b[39m.\u001b[39;49mput_object(value, owner_address\u001b[39m=\u001b[39;49mserialize_owner_address)\n\u001b[1;32m   2621\u001b[0m \u001b[39mexcept\u001b[39;00m ObjectStoreFullError:\n",
      "File \u001b[0;32m~/mambaforge/envs/cool_planet/lib/python3.10/site-packages/ray/_private/worker.py:707\u001b[0m, in \u001b[0;36mWorker.put_object\u001b[0;34m(self, value, object_ref, owner_address)\u001b[0m\n\u001b[1;32m    700\u001b[0m \u001b[39m# This *must* be the first place that we construct this python\u001b[39;00m\n\u001b[1;32m    701\u001b[0m \u001b[39m# ObjectRef because an entry with 0 local references is created when\u001b[39;00m\n\u001b[1;32m    702\u001b[0m \u001b[39m# the object is Put() in the core worker, expecting that this python\u001b[39;00m\n\u001b[1;32m    703\u001b[0m \u001b[39m# reference will be created. If another reference is created and\u001b[39;00m\n\u001b[1;32m    704\u001b[0m \u001b[39m# removed before this one, it will corrupt the state in the\u001b[39;00m\n\u001b[1;32m    705\u001b[0m \u001b[39m# reference counter.\u001b[39;00m\n\u001b[1;32m    706\u001b[0m \u001b[39mreturn\u001b[39;00m ray\u001b[39m.\u001b[39mObjectRef(\n\u001b[0;32m--> 707\u001b[0m     \u001b[39mself\u001b[39;49m\u001b[39m.\u001b[39;49mcore_worker\u001b[39m.\u001b[39;49mput_serialized_object_and_increment_local_ref(\n\u001b[1;32m    708\u001b[0m         serialized_value, object_ref\u001b[39m=\u001b[39;49mobject_ref, owner_address\u001b[39m=\u001b[39;49mowner_address\n\u001b[1;32m    709\u001b[0m     ),\n\u001b[1;32m    710\u001b[0m     \u001b[39m# The initial local reference is already acquired internally.\u001b[39;00m\n\u001b[1;32m    711\u001b[0m     skip_adding_local_ref\u001b[39m=\u001b[39m\u001b[39mTrue\u001b[39;00m,\n\u001b[1;32m    712\u001b[0m )\n",
      "File \u001b[0;32mpython/ray/_raylet.pyx:3260\u001b[0m, in \u001b[0;36mray._raylet.CoreWorker.put_serialized_object_and_increment_local_ref\u001b[0;34m()\u001b[0m\n",
      "File \u001b[0;32mpython/ray/_raylet.pyx:3152\u001b[0m, in \u001b[0;36mray._raylet.CoreWorker._create_put_buffer\u001b[0;34m()\u001b[0m\n",
      "File \u001b[0;32mpython/ray/_raylet.pyx:441\u001b[0m, in \u001b[0;36mray._raylet.check_status\u001b[0;34m()\u001b[0m\n",
      "\u001b[0;31mOutOfDiskError\u001b[0m: Local disk is full\nThe object cannot be created because the local object store is full and the local disk's utilization is over capacity (95% by default).Tip: Use `df` on this node to check disk usage and `ray memory` to check object store memory usage.",
      "\nThe above exception was the direct cause of the following exception:\n",
      "\u001b[0;31mPipelineApplicationError\u001b[0m                  Traceback (most recent call last)",
      "\u001b[1;32m/Users/zijin/projects/planet/nbs/02_themis.ipynb Cell 17\u001b[0m line \u001b[0;36m<cell line: 1>\u001b[0;34m()\u001b[0m\n\u001b[0;32m----> <a href='vscode-notebook-cell:/Users/zijin/projects/planet/nbs/02_themis.ipynb#X30sZmlsZQ%3D%3D?line=0'>1</a>\u001b[0m ids \u001b[39m=\u001b[39m process_candidates(candidates, sat_fgm, sat_state, data_resolution)\n",
      "File \u001b[0;32m~/projects/planet/ids_finder/core.py:628\u001b[0m, in \u001b[0;36mprocess_candidates\u001b[0;34m(candidates, sat_fgm, sat_state, data_resolution)\u001b[0m\n\u001b[1;32m    621\u001b[0m \u001b[39mdef\u001b[39;00m \u001b[39mprocess_candidates\u001b[39m(\n\u001b[1;32m    622\u001b[0m     candidates: pl\u001b[39m.\u001b[39mDataFrame,  \u001b[39m# potential candidates DataFrame\u001b[39;00m\n\u001b[1;32m    623\u001b[0m     sat_fgm: xr\u001b[39m.\u001b[39mDataArray,  \u001b[39m# satellite FGM data\u001b[39;00m\n\u001b[1;32m    624\u001b[0m     sat_state: pl\u001b[39m.\u001b[39mDataFrame,  \u001b[39m# satellite state data\u001b[39;00m\n\u001b[1;32m    625\u001b[0m     data_resolution: timedelta,  \u001b[39m# time resolution of the data\u001b[39;00m\n\u001b[1;32m    626\u001b[0m ) \u001b[39m-\u001b[39m\u001b[39m>\u001b[39m pl\u001b[39m.\u001b[39mDataFrame:  \u001b[39m# processed candidates DataFrame\u001b[39;00m\n\u001b[1;32m    627\u001b[0m     id_pipelines \u001b[39m=\u001b[39m IDsPipeline()\n\u001b[0;32m--> 628\u001b[0m     candidates \u001b[39m=\u001b[39m id_pipelines\u001b[39m.\u001b[39;49mcalc_duration(sat_fgm)\u001b[39m.\u001b[39;49mapply(candidates)\n\u001b[1;32m    630\u001b[0m     \u001b[39m# calibrate duration\u001b[39;00m\n\u001b[1;32m    631\u001b[0m     temp_candidates \u001b[39m=\u001b[39m candidates\u001b[39m.\u001b[39mloc[\n\u001b[1;32m    632\u001b[0m         \u001b[39mlambda\u001b[39;00m df: df[\u001b[39m\"\u001b[39m\u001b[39md_tstart\u001b[39m\u001b[39m\"\u001b[39m]\u001b[39m.\u001b[39misnull() \u001b[39m|\u001b[39m df[\u001b[39m\"\u001b[39m\u001b[39md_tstop\u001b[39m\u001b[39m\"\u001b[39m]\u001b[39m.\u001b[39misnull()\n\u001b[1;32m    633\u001b[0m     ]  \u001b[39m# temp_candidates = candidates.query('d_tstart.isnull() | d_tstop.isnull()') # not implemented in `modin`\u001b[39;00m\n",
      "File \u001b[0;32m~/mambaforge/envs/cool_planet/lib/python3.10/site-packages/pdpipe/core.py:1282\u001b[0m, in \u001b[0;36mPdPipeline.apply\u001b[0;34m(self, X, y, exraise, verbose, time, fit_context, application_context)\u001b[0m\n\u001b[1;32m   1273\u001b[0m     res \u001b[39m=\u001b[39m \u001b[39mself\u001b[39m\u001b[39m.\u001b[39mtransform(\n\u001b[1;32m   1274\u001b[0m         X,\n\u001b[1;32m   1275\u001b[0m         y,\n\u001b[0;32m   (...)\u001b[0m\n\u001b[1;32m   1279\u001b[0m         application_context\u001b[39m=\u001b[39mapplication_context,\n\u001b[1;32m   1280\u001b[0m     )\n\u001b[1;32m   1281\u001b[0m     \u001b[39mreturn\u001b[39;00m res\n\u001b[0;32m-> 1282\u001b[0m res \u001b[39m=\u001b[39m \u001b[39mself\u001b[39;49m\u001b[39m.\u001b[39;49mfit_transform(\n\u001b[1;32m   1283\u001b[0m     X,\n\u001b[1;32m   1284\u001b[0m     y,\n\u001b[1;32m   1285\u001b[0m     exraise\u001b[39m=\u001b[39;49mexraise,\n\u001b[1;32m   1286\u001b[0m     verbose\u001b[39m=\u001b[39;49mverbose,\n\u001b[1;32m   1287\u001b[0m     time\u001b[39m=\u001b[39;49mtime,\n\u001b[1;32m   1288\u001b[0m     fit_context\u001b[39m=\u001b[39;49mfit_context,\n\u001b[1;32m   1289\u001b[0m     application_context\u001b[39m=\u001b[39;49mapplication_context,\n\u001b[1;32m   1290\u001b[0m )\n\u001b[1;32m   1291\u001b[0m \u001b[39mreturn\u001b[39;00m res\n",
      "File \u001b[0;32m~/mambaforge/envs/cool_planet/lib/python3.10/site-packages/pdpipe/core.py:1433\u001b[0m, in \u001b[0;36mPdPipeline.fit_transform\u001b[0;34m(self, X, y, exraise, verbose, time, fit_context, application_context)\u001b[0m\n\u001b[1;32m   1431\u001b[0m         \u001b[39mexcept\u001b[39;00m \u001b[39mException\u001b[39;00m \u001b[39mas\u001b[39;00m e:\n\u001b[1;32m   1432\u001b[0m             stage\u001b[39m.\u001b[39mapplication_context \u001b[39m=\u001b[39m \u001b[39mNone\u001b[39;00m\n\u001b[0;32m-> 1433\u001b[0m             \u001b[39mraise\u001b[39;00m PipelineApplicationError(\n\u001b[1;32m   1434\u001b[0m                 \u001b[39mf\u001b[39m\u001b[39m\"\u001b[39m\u001b[39mException raised in stage [ \u001b[39m\u001b[39m{\u001b[39;00mi\u001b[39m}\u001b[39;00m\u001b[39m] \u001b[39m\u001b[39m{\u001b[39;00mstage\u001b[39m}\u001b[39;00m\u001b[39m\"\u001b[39m\n\u001b[1;32m   1435\u001b[0m             ) \u001b[39mfrom\u001b[39;00m \u001b[39me\u001b[39;00m\n\u001b[1;32m   1436\u001b[0m \u001b[39melse\u001b[39;00m:\n\u001b[1;32m   1437\u001b[0m     \u001b[39mfor\u001b[39;00m i, stage \u001b[39min\u001b[39;00m \u001b[39menumerate\u001b[39m(\u001b[39mself\u001b[39m\u001b[39m.\u001b[39m_stages):\n",
      "\u001b[0;31mPipelineApplicationError\u001b[0m: Exception raised in stage [ 1] PdPipelineStage: Generating a column with a function calculating duration parameters if needed."
     ]
    },
    {
     "name": "stderr",
     "output_type": "stream",
     "text": [
      "\u001b[2m\u001b[33m(raylet)\u001b[0m [2023-09-24 00:56:06,481 E 70415 3620643] (raylet) file_system_monitor.cc:111: /tmp/ray/session_2023-09-24_00-49-06_800983_67101 is over 95% full, available space: 23729135616; capacity: 494384795648. Object creation will fail if spilling is required.\n",
      "\u001b[2m\u001b[33m(raylet)\u001b[0m [2023-09-24 00:56:16,549 E 70415 3620643] (raylet) file_system_monitor.cc:111: /tmp/ray/session_2023-09-24_00-49-06_800983_67101 is over 95% full, available space: 23730778112; capacity: 494384795648. Object creation will fail if spilling is required.\n"
     ]
    }
   ],
   "source": [
    "#| eval: false\n",
    "\n",
    "ids = process_candidates(candidates, sat_fgm, sat_state, data_resolution)\n"
   ]
  },
  {
   "cell_type": "markdown",
   "metadata": {},
   "source": [
    "## Obsolete codes"
   ]
  },
  {
   "cell_type": "code",
   "execution_count": null,
   "metadata": {},
   "outputs": [],
   "source": [
    "#| eval: false\n",
    "import pycdfpp\n",
    "import pyspedas"
   ]
  },
  {
   "cell_type": "code",
   "execution_count": null,
   "metadata": {},
   "outputs": [],
   "source": [
    "#| eval: false\n",
    "\n",
    "def convert_thm_state_to_parquet(\n",
    "    probe: str, trange\n",
    "):\n",
    "    file_name = f\"./data/th{probe}_state.parquet\"\n",
    "    if os.path.exists(file_name):\n",
    "        return file_name\n",
    "\n",
    "    start = trange.start.to_string()\n",
    "    end = trange.end.to_string()\n",
    "\n",
    "    files = pyspedas.themis.state(\n",
    "        probe=probe,\n",
    "        trange=[start, end],\n",
    "        downloadonly=True,\n",
    "        no_update=True,\n",
    "    )\n",
    "\n",
    "    thm_pos_sse_Xs = []\n",
    "    thm_pos_gse_Xs = []\n",
    "    thm_state_times = []\n",
    "    for file in files:\n",
    "        thm_state = pycdfpp.load(file)\n",
    "        epoch_dt64 = thm_state[\n",
    "            f\"time\"\n",
    "        ].values  #  CATDESC: \"thm_state_time, UTC, in seconds since 01-Jan-1970 00:00:00\"\n",
    "        thm_pos_sse_Xs.append(thm_state[f\"th{probe}_pos_sse\"].values[:, 0])\n",
    "        thm_pos_gse_Xs.append(thm_state[f\"th{probe}_pos_gse\"].values[:, 0])\n",
    "        thm_state_times.append(epoch_dt64)\n",
    "\n",
    "    thm_pos_sse_X = np.concatenate(thm_pos_sse_Xs)\n",
    "    thm_pos_gse_X = np.concatenate(thm_pos_gse_Xs)\n",
    "    thm_state_time = np.concatenate(thm_state_times)\n",
    "\n",
    "    pl.DataFrame(\n",
    "        {\n",
    "            \"thm_state_time\": thm_state_time,\n",
    "            \"thm_pos_gse_X\": thm_pos_gse_X,\n",
    "            \"thm_pos_sse_X\": thm_pos_sse_X,\n",
    "        }\n",
    "    ).with_columns(\n",
    "        pl.from_epoch(pl.col(\"thm_state_time\"), time_unit=\"s\")\n",
    "    ).write_parquet(\n",
    "        file_name\n",
    "    )\n",
    "\n",
    "    return file_name\n",
    "\n",
    "\n",
    "def convert_thm_fgm_to_parquet(probe, trange):\n",
    "    file_name = f\"./data/th{probe}_fgm.parquet\"\n",
    "    if os.path.exists(file_name):\n",
    "        return file_name\n",
    "\n",
    "    start = trange.start.to_string()\n",
    "    end = trange.end.to_string()\n",
    "    \n",
    "    files = pyspedas.themis.fgm(\n",
    "        probe=probe,\n",
    "        trange=[start, end],\n",
    "        downloadonly=True,\n",
    "        no_update=True,\n",
    "    )\n",
    "\n",
    "    thm_fgl_gses = []\n",
    "    thm_fgl_btotals = []\n",
    "    thm_fgl_times = []\n",
    "\n",
    "    for file in files:\n",
    "        cdf = pycdfpp.load(file)\n",
    "        thm_fgl_gses.append(cdf[f\"th{probe}_fgl_gse\"].values)\n",
    "        thm_fgl_btotals.append(cdf[f\"th{probe}_fgl_btotal\"].values)\n",
    "        thm_fgl_times.append(cdf[f\"th{probe}_fgl_time\"].values)\n",
    "\n",
    "    thm_fgl_gse = np.concatenate(thm_fgl_gses)\n",
    "    thm_fgl_btotal = np.concatenate(thm_fgl_btotals)\n",
    "    thm_fgl_time = np.concatenate(thm_fgl_times)\n",
    "\n",
    "    pl.DataFrame(\n",
    "        {\n",
    "            \"time\": thm_fgl_time,\n",
    "            \"BX\": thm_fgl_gse[:,0],\n",
    "            \"BY\": thm_fgl_gse[:,1],\n",
    "            \"BZ\": thm_fgl_gse[:,2],\n",
    "            \"B\": thm_fgl_btotal,\n",
    "        }\n",
    "    ).with_columns(\n",
    "        pl.from_epoch(pl.col(\"thm_fgl_time\"), time_unit=\"s\"),\n",
    "    ).write_parquet(   \n",
    "        file_name\n",
    "    )\n",
    "    \n",
    "    return file_name"
   ]
  },
  {
   "cell_type": "code",
   "execution_count": null,
   "metadata": {},
   "outputs": [],
   "source": [
    "#| eval: false\n",
    "convert_thm_state_to_parquet(probe, trange)\n",
    "convert_thm_fgm_to_parquet(probe, trange)"
   ]
  }
 ],
 "metadata": {
  "kernelspec": {
   "display_name": "python3",
   "language": "python",
   "name": "python3"
  },
  "language_info": {
   "codemirror_mode": {
    "name": "ipython",
    "version": 3
   },
   "file_extension": ".py",
   "mimetype": "text/x-python",
   "name": "python",
   "nbconvert_exporter": "python",
   "pygments_lexer": "ipython3",
   "version": "3.10.12"
  }
 },
 "nbformat": 4,
 "nbformat_minor": 2
}
